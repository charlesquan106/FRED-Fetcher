{
 "cells": [
  {
   "cell_type": "code",
   "execution_count": 13,
   "metadata": {},
   "outputs": [
    {
     "name": "stdout",
     "output_type": "stream",
     "text": [
      "發生異常: Bad Request.  The value for variable api_key is not a 32 character alpha-numeric lower-case string.  Read https://fred.stlouisfed.org/docs/api/api_key.html for more information.\n"
     ]
    }
   ],
   "source": [
    "from fredapi import Fred\n",
    "fred = Fred(api_key='')\n",
    "# fred = Fred(api_key='8246cf7657ff4097fab8a70cb1e3de1a')\n",
    "def test_fred_api(series_id):\n",
    "    try:\n",
    "        data = fred.get_series(series_id)\n",
    "        print(f'成功獲取數據: {data.head()}')\n",
    "    except Exception as e:\n",
    "        print(f'發生異常: {e}')\n",
    "\n",
    "# 測試一個有效的數據系列ID\n",
    "test_fred_api('GDP')"
   ]
  },
  {
   "cell_type": "code",
   "execution_count": 14,
   "metadata": {},
   "outputs": [
    {
     "name": "stdout",
     "output_type": "stream",
     "text": [
      "成功獲取數據: 1946-01-01        NaN\n",
      "1946-04-01        NaN\n",
      "1946-07-01        NaN\n",
      "1946-10-01        NaN\n",
      "1947-01-01    243.164\n",
      "dtype: float64\n",
      "發生異常: Bad Request.  Invalid value for variable series_id.  Series IDs should be 25 or less alphanumeric characters.\n"
     ]
    }
   ],
   "source": [
    "from fredapi import Fred\n",
    "# fred = Fred(api_key='你的API金鑰')\n",
    "fred = Fred(api_key='8246cf7657ff4097fab8a70cb1e3de1a')\n",
    "def test_fred_api(series_id):\n",
    "    try:\n",
    "        data = fred.get_series(series_id)\n",
    "        print(f'成功獲取數據: {data.head()}')\n",
    "    except Exception as e:\n",
    "        print(f'發生異常: {e}')\n",
    "\n",
    "# 測試一個有效的數據系列ID\n",
    "test_fred_api('GDP')\n",
    "\n",
    "# 測試一個無效的數據系列ID\n",
    "test_fred_api('INVALID_SERIES_ID')\n"
   ]
  },
  {
   "cell_type": "code",
   "execution_count": 22,
   "metadata": {},
   "outputs": [
    {
     "name": "stderr",
     "output_type": "stream",
     "text": [
      "..\n",
      "----------------------------------------------------------------------\n",
      "Ran 2 tests in 0.007s\n",
      "\n",
      "OK\n"
     ]
    }
   ],
   "source": [
    "import unittest\n",
    "from unittest.mock import patch\n",
    "from fredapi import Fred\n",
    "from requests.exceptions import ConnectionError, Timeout\n",
    "\n",
    "# 假设你有一个有效的API密钥\n",
    "fred = Fred(api_key='8246cf7657ff4097fab8a70cb1e3de1a')\n",
    "\n",
    "def get_series_mock(series_id):\n",
    "    if series_id == 'NETWORK_ISSUE':\n",
    "        raise ConnectionError(\"模拟网络连接问题\")\n",
    "    elif series_id == 'RATE_LIMIT_EXCEEDED':\n",
    "        raise Timeout(\"模拟请求限制超标\")\n",
    "    else:\n",
    "        return \"假设的正常数据返回\"\n",
    "\n",
    "class TestFredAPI(unittest.TestCase):\n",
    "    @patch.object(Fred, 'get_series', side_effect=get_series_mock)\n",
    "    def test_network_issue(self, mock_get_series):\n",
    "        with self.assertRaises(ConnectionError):\n",
    "            fred.get_series('NETWORK_ISSUE')\n",
    "    \n",
    "    @patch.object(Fred, 'get_series', side_effect=get_series_mock)\n",
    "    def test_rate_limit_exceeded(self, mock_get_series):\n",
    "        with self.assertRaises(Timeout):\n",
    "            fred.get_series('RATE_LIMIT_EXCEEDED')\n",
    "\n",
    "# 在 Jupyter Notebook 中运行测试\n",
    "def run_tests():\n",
    "    suite = unittest.TestLoader().loadTestsFromTestCase(TestFredAPI)\n",
    "    unittest.TextTestRunner().run(suite)\n",
    "\n",
    "run_tests()\n"
   ]
  }
 ],
 "metadata": {
  "kernelspec": {
   "display_name": "Python 3",
   "language": "python",
   "name": "python3"
  },
  "language_info": {
   "codemirror_mode": {
    "name": "ipython",
    "version": 3
   },
   "file_extension": ".py",
   "mimetype": "text/x-python",
   "name": "python",
   "nbconvert_exporter": "python",
   "pygments_lexer": "ipython3",
   "version": "3.11.4"
  }
 },
 "nbformat": 4,
 "nbformat_minor": 2
}
