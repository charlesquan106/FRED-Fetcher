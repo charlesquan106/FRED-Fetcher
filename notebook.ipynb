{
 "cells": [
  {
   "cell_type": "code",
   "execution_count": 18,
   "metadata": {},
   "outputs": [],
   "source": [
    "from fredapi import Fred\n",
    "# 設定 API Key\n",
    "api_key = '8246cf7657ff4097fab8a70cb1e3de1a'\n",
    "fred = Fred(api_key=api_key)"
   ]
  },
  {
   "cell_type": "code",
   "execution_count": 7,
   "metadata": {},
   "outputs": [],
   "source": [
    "import pandas as pd\n",
    "pd.options.display.max_colwidth = 60\n",
    "\n",
    "%matplotlib inline\n",
    "import matplotlib.pyplot as plt\n",
    "from IPython.core.pylabtools import figsize\n",
    "figsize(20, 5)"
   ]
  },
  {
   "cell_type": "code",
   "execution_count": 8,
   "metadata": {},
   "outputs": [
    {
     "data": {
      "text/plain": [
       "2014-09-02    2002.28\n",
       "2014-09-03    2000.72\n",
       "2014-09-04    1997.65\n",
       "2014-09-05    2007.71\n",
       "dtype: float64"
      ]
     },
     "execution_count": 8,
     "metadata": {},
     "output_type": "execute_result"
    }
   ],
   "source": [
    "s = fred.get_series('SP500', observation_start='2014-09-02', observation_end='2014-09-05')\n",
    "s.tail()"
   ]
  },
  {
   "cell_type": "code",
   "execution_count": 12,
   "metadata": {},
   "outputs": [
    {
     "data": {
      "text/plain": [
       "'Market Yield on U.S. Treasury Securities at 5-Year Constant Maturity, Quoted on an Investment Basis'"
      ]
     },
     "execution_count": 12,
     "metadata": {},
     "output_type": "execute_result"
    }
   ],
   "source": [
    "info = fred.get_series_info('DGS5')\n",
    "info['title']"
   ]
  },
  {
   "cell_type": "code",
   "execution_count": 20,
   "metadata": {},
   "outputs": [
    {
     "data": {
      "text/plain": [
       "id                                                                                  DGS5\n",
       "realtime_start                                                                2024-03-12\n",
       "realtime_end                                                                  2024-03-12\n",
       "title                        Market Yield on U.S. Treasury Securities at 5-Year Const...\n",
       "observation_start                                                             1962-01-02\n",
       "observation_end                                                               2024-03-08\n",
       "frequency                                                                          Daily\n",
       "frequency_short                                                                        D\n",
       "units                                                                            Percent\n",
       "units_short                                                                            %\n",
       "seasonal_adjustment                                              Not Seasonally Adjusted\n",
       "seasonal_adjustment_short                                                            NSA\n",
       "last_updated                                                      2024-03-11 15:19:07-05\n",
       "popularity                                                                            78\n",
       "notes                        For further information regarding treasury constant matu...\n",
       "dtype: object"
      ]
     },
     "execution_count": 20,
     "metadata": {},
     "output_type": "execute_result"
    }
   ],
   "source": [
    "info"
   ]
  },
  {
   "cell_type": "code",
   "execution_count": 21,
   "metadata": {},
   "outputs": [
    {
     "data": {
      "text/plain": [
       "id                                                                                  ICSA\n",
       "realtime_start                                                                2024-03-12\n",
       "realtime_end                                                                  2024-03-12\n",
       "title                                                                     Initial Claims\n",
       "observation_start                                                             1967-01-07\n",
       "observation_end                                                               2024-03-02\n",
       "frequency                                                        Weekly, Ending Saturday\n",
       "frequency_short                                                                        W\n",
       "units                                                                             Number\n",
       "units_short                                                                       Number\n",
       "seasonal_adjustment                                                  Seasonally Adjusted\n",
       "seasonal_adjustment_short                                                             SA\n",
       "last_updated                                                      2024-03-07 07:33:01-06\n",
       "popularity                                                                            81\n",
       "notes                        An initial claim is a claim filed by an unemployed indiv...\n",
       "dtype: object"
      ]
     },
     "execution_count": 21,
     "metadata": {},
     "output_type": "execute_result"
    }
   ],
   "source": [
    "info = fred.get_series_info('ICSA')\n",
    "info"
   ]
  },
  {
   "cell_type": "code",
   "execution_count": 22,
   "metadata": {},
   "outputs": [
    {
     "data": {
      "text/plain": [
       "id                                                                                IC4WSA\n",
       "realtime_start                                                                2024-03-12\n",
       "realtime_end                                                                  2024-03-12\n",
       "title                                            4-Week Moving Average of Initial Claims\n",
       "observation_start                                                             1967-01-28\n",
       "observation_end                                                               2024-03-02\n",
       "frequency                                                        Weekly, Ending Saturday\n",
       "frequency_short                                                                        W\n",
       "units                                                                             Number\n",
       "units_short                                                                       Number\n",
       "seasonal_adjustment                                                  Seasonally Adjusted\n",
       "seasonal_adjustment_short                                                             SA\n",
       "last_updated                                                      2024-03-07 07:33:06-06\n",
       "popularity                                                                            65\n",
       "notes                        An initial claim is a claim filed by an unemployed indiv...\n",
       "dtype: object"
      ]
     },
     "execution_count": 22,
     "metadata": {},
     "output_type": "execute_result"
    }
   ],
   "source": [
    "info = fred.get_series_info('IC4WSA')\n",
    "info"
   ]
  },
  {
   "cell_type": "code",
   "execution_count": 14,
   "metadata": {},
   "outputs": [],
   "source": [
    "personal_income_series = fred.search_by_release(175, limit=5, order_by='popularity', sort_order='desc')"
   ]
  },
  {
   "cell_type": "code",
   "execution_count": 15,
   "metadata": {},
   "outputs": [
    {
     "data": {
      "text/plain": [
       "series id\n",
       "PCPI06037             Per Capita Personal Income in Los Angeles County, CA\n",
       "PCPI06075      Per Capita Personal Income in San Francisco County/city, CA\n",
       "PCPI12099              Per Capita Personal Income in Palm Beach County, FL\n",
       "PCPI12086              Per Capita Personal Income in Miami-Dade County, FL\n",
       "SEAT653PCPI    Per Capita Personal Income in Seattle-Tacoma-Bellevue, W...\n",
       "Name: title, dtype: object"
      ]
     },
     "execution_count": 15,
     "metadata": {},
     "output_type": "execute_result"
    }
   ],
   "source": [
    "personal_income_series['title']"
   ]
  },
  {
   "cell_type": "code",
   "execution_count": 19,
   "metadata": {},
   "outputs": [
    {
     "name": "stdout",
     "output_type": "stream",
     "text": [
      "Monthly Average:\n",
      "                Rate\n",
      "Date                \n",
      "2000-01-31  6.625500\n",
      "2000-02-29  6.232000\n",
      "2000-03-31  6.053478\n",
      "2000-04-30  5.846316\n",
      "2000-05-31  6.148636\n",
      "\n",
      "Month-End Values:\n",
      "            Rate\n",
      "Date            \n",
      "2000-01-31  6.49\n",
      "2000-02-29  6.15\n",
      "2000-03-31  5.84\n",
      "2000-04-30  5.97\n",
      "2000-05-31  6.02\n"
     ]
    }
   ],
   "source": [
    "from fredapi import Fred\n",
    "import pandas as pd\n",
    "\n",
    "\n",
    "\n",
    "# 獲取美國三十年期公債利率的數據\n",
    "# 替換 'DGS30' 為相應的系列代碼，如果它不正確的話\n",
    "data = fred.get_series('DGS30', observation_start='2000-01-01')\n",
    "\n",
    "# 轉換為 DataFrame 以方便計算\n",
    "df = pd.DataFrame(data, columns=['Rate'])\n",
    "\n",
    "# 設置日期作為索引\n",
    "df.index.name = 'Date'\n",
    "\n",
    "# 計算每個月的平均值\n",
    "monthly_avg = df.resample('M').mean()\n",
    "\n",
    "# 獲取每個月的最後一個業務日（假設這就是月底值）\n",
    "month_end = df.resample('M').last()\n",
    "\n",
    "print(\"Monthly Average:\")\n",
    "print(monthly_avg.head())\n",
    "\n",
    "print(\"\\nMonth-End Values:\")\n",
    "print(month_end.head())\n"
   ]
  }
 ],
 "metadata": {
  "kernelspec": {
   "display_name": "Python 3",
   "language": "python",
   "name": "python3"
  },
  "language_info": {
   "codemirror_mode": {
    "name": "ipython",
    "version": 3
   },
   "file_extension": ".py",
   "mimetype": "text/x-python",
   "name": "python",
   "nbconvert_exporter": "python",
   "pygments_lexer": "ipython3",
   "version": "3.11.4"
  }
 },
 "nbformat": 4,
 "nbformat_minor": 2
}
