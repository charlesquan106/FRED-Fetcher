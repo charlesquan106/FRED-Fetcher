{
 "cells": [
  {
   "cell_type": "code",
   "execution_count": 1,
   "metadata": {},
   "outputs": [],
   "source": [
    "import os\n",
    "import pandas as pd\n",
    "from fredapi import Fred\n",
    "from datetime import datetime\n",
    "import configparser  # 新增導入 configparser 模塊\n",
    "import pyarrow.parquet as pq"
   ]
  },
  {
   "cell_type": "code",
   "execution_count": 2,
   "metadata": {},
   "outputs": [
    {
     "name": "stdout",
     "output_type": "stream",
     "text": [
      "數據已存儲至資料夾：2024-03-13\n"
     ]
    }
   ],
   "source": [
    "# 讀取配置文件\n",
    "config = configparser.ConfigParser()\n",
    "config.read('config.ini')\n",
    "FRED_API_KEY = config['FRED']['API_KEY']\n",
    "\n",
    "fred = Fred(api_key=FRED_API_KEY)\n",
    "\n",
    "# 定義需要擷取的資料系列 ID\n",
    "SERIES_IDS = [\n",
    "    'UMCSENT', 'ICSA', 'DFF', 'DTB4WK', 'DTB3', 'DTB6', \n",
    "    'DTB1YR', 'DGS6MO', 'DGS1', 'DGS2', 'DGS3', 'DGS5', \n",
    "    'DGS7', 'DGS10', 'DGS30'\n",
    "]\n",
    "\n",
    "# 獲取當前時間，並以此創建一個資料夾\n",
    "folder_name = datetime.now().strftime('%Y-%m-%d')\n",
    "os.makedirs(folder_name, exist_ok=True)\n",
    "\n",
    "# 遍歷每個系列 ID，擷取最新的數據並存儲為 Parquet 檔案\n",
    "for series_id in SERIES_IDS:\n",
    "    data = fred.get_series(series_id)\n",
    "    df = pd.DataFrame(data).reset_index().rename(columns={'index': 'date', 0: 'value'})\n",
    "    \n",
    "    file_path = os.path.join(folder_name, f'{series_id}.parquet')\n",
    "    df.to_parquet(file_path, engine='pyarrow', index=False)\n",
    "\n",
    "print(f\"數據已存儲至資料夾：{folder_name}\")\n"
   ]
  },
  {
   "cell_type": "code",
   "execution_count": null,
   "metadata": {},
   "outputs": [],
   "source": []
  },
  {
   "cell_type": "code",
   "execution_count": null,
   "metadata": {},
   "outputs": [],
   "source": []
  }
 ],
 "metadata": {
  "kernelspec": {
   "display_name": "Python 3",
   "language": "python",
   "name": "python3"
  },
  "language_info": {
   "codemirror_mode": {
    "name": "ipython",
    "version": 3
   },
   "file_extension": ".py",
   "mimetype": "text/x-python",
   "name": "python",
   "nbconvert_exporter": "python",
   "pygments_lexer": "ipython3",
   "version": "3.11.4"
  }
 },
 "nbformat": 4,
 "nbformat_minor": 2
}
